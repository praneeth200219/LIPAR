{
 "cells": [
  {
   "cell_type": "code",
   "execution_count": 1,
   "metadata": {},
   "outputs": [],
   "source": [
    "import numpy as np\n",
    "import os\n",
    "from re import match\n",
    "from imageio import imread\n",
    "from skimage.transform import resize\n",
    "from scipy import misc\n",
    "from sklearn.preprocessing import (LabelEncoder as sk_LabelEncoder, OneHotEncoder as sk_OneHotEncoder)\n",
    "from numpy import array as np_array\n",
    "import cv2\n",
    "import matplotlib.pyplot as plt\n",
    "%matplotlib inline"
   ]
  },
  {
   "cell_type": "code",
   "execution_count": 2,
   "metadata": {},
   "outputs": [],
   "source": [
    "X = np_array(eval(\"[[[[0.0]*48]*30]*35]*150\"))\n",
    "Y = np_array(eval('[\"01\"]*150'))\n",
    "\n",
    "input_path = 'C:/Users/praneeth/Desktop/VSR/Code/data'"
   ]
  },
  {
   "cell_type": "code",
   "execution_count": 3,
   "metadata": {},
   "outputs": [],
   "source": [
    "def get_color_images(images):\n",
    "        return list(filter(lambda file: bool(match(\"^color__\\d{3}\\.jpg$\", file)), images))"
   ]
  },
  {
   "cell_type": "code",
   "execution_count": 4,
   "metadata": {},
   "outputs": [],
   "source": [
    "def append_frames(im_seq, max_frame, n_frames):\n",
    "        dummy_viseme = (resize(imread(os.path.join(input_path, \"..\", \"dummy.jpg\")), (30, 48))/ 255)\n",
    "        dummy_count = max_frame - n_frames\n",
    "        for i in range(0, dummy_count // 2):\n",
    "            im_seq[i] = dummy_viseme\n",
    "        for i in range(dummy_count - (dummy_count // 2), max_frame):\n",
    "            im_seq[i] = dummy_viseme\n",
    "        return im_seq, dummy_count // 2"
   ]
  },
  {
   "cell_type": "code",
   "execution_count": 5,
   "metadata": {},
   "outputs": [
    {
     "name": "stdout",
     "output_type": "stream",
     "text": [
      "in path C:/Users/praneeth/Desktop/VSR/Code/data\n",
      ".............................................................................................................................................................................................................................................................................................................................................................."
     ]
    }
   ],
   "source": [
    "type = \"words\"\n",
    "i = 0\n",
    "cwd = os.getcwd()\n",
    "input_path\n",
    "verbose = True\n",
    "print(\"in path\", input_path)\n",
    "os.chdir(input_path)\n",
    "speakers = os.listdir(os.getcwd())\n",
    "for spk in speakers:\n",
    "    contents = os.listdir(spk + ('/words'))\n",
    "    for content in contents:\n",
    "        if verbose == True:\n",
    "            pass\n",
    "        utterances = os.listdir(os.path.join(spk, type , content))\n",
    "        for utterance in utterances:\n",
    "            if verbose == True:\n",
    "                print(\".\", end=\"\")\n",
    "            images_list = get_color_images(os.listdir(os.path.join(spk, type, content, utterance)))\n",
    "            n_frames = len(images_list)\n",
    "            try: \n",
    "                X[i], index = append_frames(X[i], 35, n_frames)\n",
    "            except IndexError:\n",
    "                pass\n",
    "            for image in images_list:\n",
    "                try:\n",
    "                    X[i][index] = (resize(imread(os.path.join(spk, type, content, utterance, image)),(30, 48),)/ 255)\n",
    "                    index += 1\n",
    "                except IndexError:\n",
    "                    pass\n",
    "            try:\n",
    "                Y[i] = content\n",
    "                i += 1\n",
    "            except IndexError:\n",
    "                pass\n",
    "\n",
    "os.chdir(cwd)"
   ]
  },
  {
   "cell_type": "code",
   "execution_count": 6,
   "metadata": {},
   "outputs": [
    {
     "data": {
      "text/plain": [
       "['01', '02', '03', '04', '05', '06', '07', '08', '09', '10']"
      ]
     },
     "execution_count": 6,
     "metadata": {},
     "output_type": "execute_result"
    }
   ],
   "source": [
    "contents"
   ]
  },
  {
   "cell_type": "code",
   "execution_count": 54,
   "metadata": {},
   "outputs": [
    {
     "ename": "ValueError",
     "evalue": "Expected 1D or 2D array, got 4D array instead",
     "output_type": "error",
     "traceback": [
      "\u001b[1;31m---------------------------------------------------------------------------\u001b[0m",
      "\u001b[1;31mValueError\u001b[0m                                Traceback (most recent call last)",
      "\u001b[1;32m~\\AppData\\Local\\Temp/ipykernel_15152/375610156.py\u001b[0m in \u001b[0;36m<module>\u001b[1;34m\u001b[0m\n\u001b[1;32m----> 1\u001b[1;33m \u001b[0mnp\u001b[0m\u001b[1;33m.\u001b[0m\u001b[0msavetxt\u001b[0m\u001b[1;33m(\u001b[0m\u001b[1;34m'values.csv'\u001b[0m\u001b[1;33m,\u001b[0m \u001b[0mX\u001b[0m\u001b[1;33m,\u001b[0m \u001b[0mfmt\u001b[0m\u001b[1;33m=\u001b[0m\u001b[1;34m\"%d\"\u001b[0m\u001b[1;33m,\u001b[0m \u001b[0mdelimiter\u001b[0m\u001b[1;33m=\u001b[0m\u001b[1;34m\",\"\u001b[0m\u001b[1;33m)\u001b[0m\u001b[1;33m\u001b[0m\u001b[1;33m\u001b[0m\u001b[0m\n\u001b[0m",
      "\u001b[1;32m<__array_function__ internals>\u001b[0m in \u001b[0;36msavetxt\u001b[1;34m(*args, **kwargs)\u001b[0m\n",
      "\u001b[1;32m~\\anaconda3\\envs\\all_env\\lib\\site-packages\\numpy\\lib\\npyio.py\u001b[0m in \u001b[0;36msavetxt\u001b[1;34m(fname, X, fmt, delimiter, newline, header, footer, comments, encoding)\u001b[0m\n\u001b[0;32m   1380\u001b[0m         \u001b[1;31m# Handle 1-dimensional arrays\u001b[0m\u001b[1;33m\u001b[0m\u001b[1;33m\u001b[0m\u001b[0m\n\u001b[0;32m   1381\u001b[0m         \u001b[1;32mif\u001b[0m \u001b[0mX\u001b[0m\u001b[1;33m.\u001b[0m\u001b[0mndim\u001b[0m \u001b[1;33m==\u001b[0m \u001b[1;36m0\u001b[0m \u001b[1;32mor\u001b[0m \u001b[0mX\u001b[0m\u001b[1;33m.\u001b[0m\u001b[0mndim\u001b[0m \u001b[1;33m>\u001b[0m \u001b[1;36m2\u001b[0m\u001b[1;33m:\u001b[0m\u001b[1;33m\u001b[0m\u001b[1;33m\u001b[0m\u001b[0m\n\u001b[1;32m-> 1382\u001b[1;33m             raise ValueError(\n\u001b[0m\u001b[0;32m   1383\u001b[0m                 \"Expected 1D or 2D array, got %dD array instead\" % X.ndim)\n\u001b[0;32m   1384\u001b[0m         \u001b[1;32melif\u001b[0m \u001b[0mX\u001b[0m\u001b[1;33m.\u001b[0m\u001b[0mndim\u001b[0m \u001b[1;33m==\u001b[0m \u001b[1;36m1\u001b[0m\u001b[1;33m:\u001b[0m\u001b[1;33m\u001b[0m\u001b[1;33m\u001b[0m\u001b[0m\n",
      "\u001b[1;31mValueError\u001b[0m: Expected 1D or 2D array, got 4D array instead"
     ]
    }
   ],
   "source": [
    "for spk in speakers:\n",
    "    contents = os.listdir(spk + ('/words'))\n",
    "    for content in contents:\n",
    "        if verbose == True:\n",
    "            pass\n",
    "        utterances = os.listdir(os.path.join(spk, type , content))\n",
    "        for utterance in utterances:\n",
    "            if verbose == True:\n",
    "                print(\".\", end=\"\")\n",
    "            images_list = get_color_images(os.listdir(os.path.join(spk, type, content, utterance)))\n",
    "            n_frames = len(images_list)\n",
    "            try: \n",
    "                X[i], index = append_frames(X[i], 35, n_frames)\n",
    "            except IndexError:\n",
    "                pass\n",
    "            for image in images_list:\n",
    "                try:\n",
    "                    X[i][index] = (resize(imread(os.path.join(spk, type, content, utterance, image)),(30, 48),)/ 255)\n",
    "                    index += 1\n",
    "                except IndexError:\n",
    "                    pass\n",
    "            try:\n",
    "                Y[i] = content\n",
    "                i += 1\n",
    "            except IndexError:\n",
    "                pass\n",
    "\n",
    "os.chdir(cwd)"
   ]
  },
  {
   "cell_type": "code",
   "execution_count": null,
   "metadata": {},
   "outputs": [],
   "source": []
  }
 ],
 "metadata": {
  "kernelspec": {
   "display_name": "Python 3 (ipykernel)",
   "language": "python",
   "name": "python3"
  },
  "language_info": {
   "codemirror_mode": {
    "name": "ipython",
    "version": 3
   },
   "file_extension": ".py",
   "mimetype": "text/x-python",
   "name": "python",
   "nbconvert_exporter": "python",
   "pygments_lexer": "ipython3",
   "version": "3.9.7"
  }
 },
 "nbformat": 4,
 "nbformat_minor": 5
}
